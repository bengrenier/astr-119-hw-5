{
 "cells": [
  {
   "cell_type": "code",
   "execution_count": 1,
   "metadata": {},
   "outputs": [],
   "source": [
    "%matplotlib inline\n",
    "import numpy as np\n",
    "import matplotlib.pyplot as plt"
   ]
  },
  {
   "cell_type": "code",
   "execution_count": 2,
   "metadata": {},
   "outputs": [],
   "source": [
    "def dydx(x,y):\n",
    "   \n",
    "    y_derivs = np.zeros(2)\n",
    "    \n",
    "    y_derivs[0] = y[1]\n",
    "    \n",
    "    y_derivs[1] = -1*y[0]\n",
    "    \n",
    "    return y_derivs"
   ]
  },
  {
   "cell_type": "code",
   "execution_count": 3,
   "metadata": {},
   "outputs": [],
   "source": [
    "def rk_mv_core(dydx,xi,yi,nv,h):\n",
    "    k1 = np.zeros(nv)\n",
    "    k2 = np.zeros(nv)\n",
    "    k3 = np.zeros(nv)\n",
    "    k4 = np.zeros(nv)\n",
    "    k5 = np.zeros(nv)\n",
    "    k6 = np.zeros(nv)\n",
    "    \n",
    "    y_temp = np.zeros(nv)\n",
    "    \n",
    "    c_2 = 1/5\n",
    "    c_3 = 3/10\n",
    "    c_4 = 3/5\n",
    "    c_5 = 1\n",
    "    c_6 = 7/8\n",
    "    \n",
    "    a_21 = 1/5\n",
    "    a_31 = 3/40\n",
    "    a_32 = 9/40\n",
    "    a_41 = 3/10\n",
    "    a_42 = -9/10\n",
    "    a_43 = 6/5\n",
    "    a_51 = -11/54\n",
    "    a_52 = 5/2\n",
    "    a_53 = -70/27\n",
    "    a_54 = 35/27\n",
    "    a_61 = 1631/55296\n",
    "    a_62 = 175/512\n",
    "    a_63 = 575/13824\n",
    "    a_64 = 44275/110592\n",
    "    a_65 = 253/4096\n",
    "    \n",
    "    b_1 = 37/378\n",
    "    b_2 = 0\n",
    "    b_3 = 250/621\n",
    "    b_4 = 125/594\n",
    "    b_5 = 0\n",
    "    b_6 = 512/1771\n",
    "    \n",
    "    \n",
    "    y_derivs = dydx(xi,yi)\n",
    "    k1[:] = h*y_derivs[:]\n",
    "        \n",
    "    y_temp[:] = yi[:] + a_21*k1[:]\n",
    "    y_derivs = dydx(xi + c_2*h,y_temp)\n",
    "    k2[:] = h*y_derivs[:]\n",
    "    \n",
    "    y_temp[:] = yi[:] + a_31*k1[:] + a_32*k2[:]\n",
    "    y_derivs = dydx(xi +c_3*h,y_temp)\n",
    "    k3[:] = h*y_derivs[:]\n",
    "    \n",
    "    y_temp[:] = yi[:] + a_41*k1[:] + a_42*k2[:] + a_43*k3[:]\n",
    "    y_derivs = dydx(xi + c_4*h,y_temp)\n",
    "    k4[:] = h*y_derivs[:]\n",
    "    \n",
    "    y_temp[:] = yi[:] + a_51*k1[:] + a_52*k2[:] + a_53*k3[:] + a_54*k4[:]\n",
    "    y_derivs = dydx(xi + c_5*h,y_temp)\n",
    "    k5[:] = h*y_derivs[:]\n",
    "    \n",
    "    y_temp[:] = yi[:] + a_61*k1[:] + a_62*k2[:] + a_63*k3[:] + a_64*k4[:] + a_65*k5[:]\n",
    "    y_derivs = dydx(xi + c_6*h,y_temp)\n",
    "    k6[:] = h*y_derivs[:]\n",
    "\n",
    "    yipo = yi + b_1*k1 + b_2*k2 + b_3*k3 + b_4*k4 + b_5*k5 + b_6*k6    \n",
    "    \n",
    "    return yipo"
   ]
  },
  {
   "cell_type": "code",
   "execution_count": 4,
   "metadata": {},
   "outputs": [],
   "source": [
    "def rk_mv_core_2(dydx,xi,yi,nv,h):\n",
    "    k1 = np.zeros(nv)\n",
    "    k2 = np.zeros(nv)\n",
    "    k3 = np.zeros(nv)\n",
    "    k4 = np.zeros(nv)\n",
    "    k5 = np.zeros(nv)\n",
    "    k6 = np.zeros(nv)\n",
    "    \n",
    "    y_temp = np.zeros(nv)\n",
    "    \n",
    "    c_2 = 1/5\n",
    "    c_3 = 3/10\n",
    "    c_4 = 3/5\n",
    "    c_5 = 1\n",
    "    c_6 = 7/8\n",
    "    \n",
    "    a_21 = 1/5\n",
    "    a_31 = 3/40\n",
    "    a_32 = 9/40\n",
    "    a_41 = 3/10\n",
    "    a_42 = -9/10\n",
    "    a_43 = 6/5\n",
    "    a_51 = -11/54\n",
    "    a_52 = 5/2\n",
    "    a_53 = -70/27\n",
    "    a_54 = 35/27\n",
    "    a_61 = 1631/55296\n",
    "    a_62 = 175/512\n",
    "    a_63 = 575/13824\n",
    "    a_64 = 44275/110592\n",
    "    a_65 = 253/4096\n",
    "    \n",
    "    b2_1 = 2825/27648\n",
    "    b2_2 = 0\n",
    "    b2_3 = 18575/48384\n",
    "    b2_4 = 13525/55296\n",
    "    b2_5 = 277/14336\n",
    "    b2_6 = 1/4\n",
    "    \n",
    "    \n",
    "    y_derivs = dydx(xi,yi)\n",
    "    k1[:] = h*y_derivs[:]\n",
    "        \n",
    "    y_temp[:] = yi[:] + a_21*k1[:]\n",
    "    y_derivs = dydx(xi + c_2*h,y_temp)\n",
    "    k2[:] = h*y_derivs[:]\n",
    "    \n",
    "    y_temp[:] = yi[:] + a_31*k1[:] + a_32*k2[:]\n",
    "    y_derivs = dydx(xi +c_3*h,y_temp)\n",
    "    k3[:] = h*y_derivs[:]\n",
    "    \n",
    "    y_temp[:] = yi[:] + a_41*k1[:] + a_42*k2[:] + a_43*k3[:]\n",
    "    y_derivs = dydx(xi + c_4*h,y_temp)\n",
    "    k4[:] = h*y_derivs[:]\n",
    "    \n",
    "    y_temp[:] = yi[:] + a_51*k1[:] + a_52*k2[:] + a_53*k3[:] + a_54*k4[:]\n",
    "    y_derivs = dydx(xi + c_5*h,y_temp)\n",
    "    k5[:] = h*y_derivs[:]\n",
    "    \n",
    "    y_temp[:] = yi[:] + a_61*k1[:] + a_62*k2[:] + a_63*k3[:] + a_64*k4[:] + a_65*k5[:]\n",
    "    y_derivs = dydx(xi + c_6*h,y_temp)\n",
    "    k6[:] = h*y_derivs[:]\n",
    "\n",
    "    yipo2 = yi + b2_1*k1 + b2_2*k2 + b2_3*k3 + b2_4*k4 + b2_5*k5 + b2_6*k6\n",
    "     \n",
    "    return yipo2"
   ]
  },
  {
   "cell_type": "code",
   "execution_count": 5,
   "metadata": {},
   "outputs": [],
   "source": [
    "def rk_mv_ad(dydx,x_i,y_i,nv,h,tol):\n",
    "    \n",
    "    SAFETY = 0.9\n",
    "    H_NEW_FAC = 2.0\n",
    "    \n",
    "    imax = 10000\n",
    "    \n",
    "    i = 0\n",
    "    \n",
    "    Delta = np.full(nv,2*tol)\n",
    "    \n",
    "    h_step = h\n",
    "    \n",
    "    while(Delta.max()/tol > 1.0):\n",
    "        \n",
    "        y_2 = rk_mv_core(dydx,x_i,y_i,nv,h_step)\n",
    "        y_1 = rk_mv_core_2(dydx,x_i,y_i,nv,h_step)\n",
    "        \n",
    "        Delta = np.fabs(y_2 - y_1)\n",
    "        \n",
    "        if(Delta.max()/tol >1.0):\n",
    "            \n",
    "            h_step *= SAFETY * (Delta.max()/tol)**(-0.25)\n",
    "        \n",
    "        if(i>=imax):\n",
    "            print(\"too many iterations in rk4_mv_ad()\")\n",
    "            raise StopIteration(\"Ending after i = \",i)\n",
    "       \n",
    "        i+=1\n",
    "    \n",
    "    h_new = np.fmin(h_step * (Delta.max()/tol)**(-0.9), h_step*H_NEW_FAC)\n",
    "    \n",
    "    return y_2, h_new, h_step"
   ]
  },
  {
   "cell_type": "code",
   "execution_count": 6,
   "metadata": {},
   "outputs": [],
   "source": [
    "def rk_mv(dfdx,a,b,y_a,tol):\n",
    "    \n",
    "    xi = a\n",
    "    yi = y_a.copy()\n",
    "    \n",
    "    h = 1.0e-4 * (b-a)\n",
    "    \n",
    "    imax = 10000\n",
    "    \n",
    "    i = 0\n",
    "    \n",
    "    nv = len(y_a)\n",
    "    \n",
    "    \n",
    "    x = np.full(1,a)\n",
    "    y = np.full((1,nv),y_a)\n",
    "    \n",
    "    flag = 1\n",
    "    \n",
    "    while(flag):\n",
    "        \n",
    "        yi_new, h_new, h_step = rk_mv_ad(dydx,xi,yi,nv,h,tol)\n",
    "        \n",
    "        h = h_new\n",
    "        \n",
    "        if(xi+h_step>b):\n",
    "            \n",
    "            h = b - xi\n",
    "            \n",
    "            yi_new, h_new, h_step = rk_mv_ad(dydx,xi,yi,nv,h,tol)\n",
    "            \n",
    "            flag = 0\n",
    "        \n",
    "        \n",
    "        xi += h_step\n",
    "        yi[:] = yi_new[:]\n",
    "        \n",
    "        x = np.append(x,xi)\n",
    "        y_new = np.zeros((len(x),nv))\n",
    "        y_new[0:len(x)-1,:] = y\n",
    "        y_new[-1,:] = yi[:]\n",
    "        del y\n",
    "        y = y_new\n",
    "        \n",
    "        if(i>imax):\n",
    "            \n",
    "            print(\"Maximum iterations reached.\")\n",
    "            raise StopIteration(\"iteration number = \",i)\n",
    "        \n",
    "        \n",
    "        i += 1\n",
    "        \n",
    "        s = \"i = %3d\\tx = %9.8f\\th = %9.8f\\tb=%9.8f\" % (i, xi, h_step, b)\n",
    "        print(s)\n",
    "        \n",
    "        if(xi==b):\n",
    "            flag = 0\n",
    "    \n",
    "    return x,y"
   ]
  },
  {
   "cell_type": "code",
   "execution_count": 7,
   "metadata": {},
   "outputs": [
    {
     "name": "stdout",
     "output_type": "stream",
     "text": [
      "i =   1\tx = 0.00062832\th = 0.00062832\tb=6.28318531\n",
      "i =   2\tx = 0.00188496\th = 0.00125664\tb=6.28318531\n",
      "i =   3\tx = 0.00439823\th = 0.00251327\tb=6.28318531\n",
      "i =   4\tx = 0.00942478\th = 0.00502655\tb=6.28318531\n",
      "i =   5\tx = 0.01947787\th = 0.01005310\tb=6.28318531\n",
      "i =   6\tx = 0.03958407\th = 0.02010619\tb=6.28318531\n",
      "i =   7\tx = 0.07979645\th = 0.04021239\tb=6.28318531\n",
      "i =   8\tx = 0.16022123\th = 0.08042477\tb=6.28318531\n",
      "i =   9\tx = 0.32107077\th = 0.16084954\tb=6.28318531\n",
      "i =  10\tx = 0.64276986\th = 0.32169909\tb=6.28318531\n",
      "i =  11\tx = 0.93739384\th = 0.29462398\tb=6.28318531\n",
      "i =  12\tx = 1.20675386\th = 0.26936002\tb=6.28318531\n",
      "i =  13\tx = 1.49426997\th = 0.28751611\tb=6.28318531\n",
      "i =  14\tx = 1.76344767\th = 0.26917769\tb=6.28318531\n",
      "i =  15\tx = 2.03076151\th = 0.26731385\tb=6.28318531\n",
      "i =  16\tx = 2.29758389\th = 0.26682237\tb=6.28318531\n",
      "i =  17\tx = 2.56844699\th = 0.27086310\tb=6.28318531\n",
      "i =  18\tx = 2.84768738\th = 0.27924039\tb=6.28318531\n",
      "i =  19\tx = 3.12869484\th = 0.28100745\tb=6.28318531\n",
      "i =  20\tx = 3.39732623\th = 0.26863139\tb=6.28318531\n",
      "i =  21\tx = 3.66411066\th = 0.26678443\tb=6.28318531\n",
      "i =  22\tx = 3.93155133\th = 0.26744067\tb=6.28318531\n",
      "i =  23\tx = 4.20391433\th = 0.27236300\tb=6.28318531\n",
      "i =  24\tx = 4.48601277\th = 0.28209844\tb=6.28318531\n",
      "i =  25\tx = 4.76275451\th = 0.27674175\tb=6.28318531\n",
      "i =  26\tx = 5.03073667\th = 0.26798215\tb=6.28318531\n",
      "i =  27\tx = 5.29729916\th = 0.26656249\tb=6.28318531\n",
      "i =  28\tx = 5.56553774\th = 0.26823858\tb=6.28318531\n",
      "i =  29\tx = 5.83966631\th = 0.27412857\tb=6.28318531\n",
      "i =  30\tx = 6.12503238\th = 0.28536607\tb=6.28318531\n",
      "i =  31\tx = 6.28318531\th = 0.15815293\tb=6.28318531\n"
     ]
    }
   ],
   "source": [
    "a = 0.0\n",
    "b = 2.0 * np.pi\n",
    "y_0 = np.zeros(2)\n",
    "y_0[0] = 0.0\n",
    "y_0[1] = 1.0\n",
    "nv = 2\n",
    "\n",
    "tolerance = 1.0e-6\n",
    "\n",
    "x,y = rk_mv(dydx,a,b,y_0,tolerance)"
   ]
  },
  {
   "cell_type": "markdown",
   "metadata": {},
   "source": [
    "## Plot the result"
   ]
  },
  {
   "cell_type": "code",
   "execution_count": 8,
   "metadata": {},
   "outputs": [
    {
     "data": {
      "text/plain": [
       "<matplotlib.legend.Legend at 0x17db76e7048>"
      ]
     },
     "execution_count": 8,
     "metadata": {},
     "output_type": "execute_result"
    },
    {
     "data": {
      "image/png": "[encoded data removed]",
      "text/plain": [
       "<Figure size 432x288 with 1 Axes>"
      ]
     },
     "metadata": {
      "needs_background": "light"
     },
     "output_type": "display_data"
    }
   ],
   "source": [
    "plt.plot(x,y[:,0], 'o',label='y(x)')\n",
    "plt.plot(x,y[:,1], 'o',label='dydx(x)')\n",
    "xx = np.linspace(0,2.0*np.pi,1000)\n",
    "plt.plot(xx,np.sin(xx),label='sin(x)')\n",
    "plt.plot(xx,np.cos(xx),label='cos(x)')\n",
    "plt.xlabel('x')\n",
    "plt.ylabel('y, dy/dx')\n",
    "plt.legend(frameon=False)"
   ]
  },
  {
   "cell_type": "markdown",
   "metadata": {},
   "source": [
    "## Plot the Error"
   ]
  },
  {
   "cell_type": "code",
   "execution_count": 9,
   "metadata": {},
   "outputs": [
    {
     "data": {
      "text/plain": [
       "<matplotlib.legend.Legend at 0x17db7767b38>"
      ]
     },
     "execution_count": 9,
     "metadata": {},
     "output_type": "execute_result"
    },
    {
     "data": {
      "image/png": "[encoded data removed]",
      "text/plain": [
       "<Figure size 432x288 with 1 Axes>"
      ]
     },
     "metadata": {
      "needs_background": "light"
     },
     "output_type": "display_data"
    }
   ],
   "source": [
    "sine = np.sin(x)\n",
    "cosine = np.cos(x)\n",
    "\n",
    "y_error = (y[:,0]-sine)\n",
    "dydx_error = (y[:,1]-cosine)\n",
    "plt.plot(x,y_error,label=\"y(x) Error\")\n",
    "plt.plot(x,dydx_error,label=\"dydx(x) Error\")\n",
    "plt.legend(frameon=False)"
   ]
  },
  {
   "cell_type": "code",
   "execution_count": null,
   "metadata": {},
   "outputs": [],
   "source": []
  }
 ],
 "metadata": {
  "kernelspec": {
   "display_name": "Python 3",
   "language": "python",
   "name": "python3"
  },
  "language_info": {
   "codemirror_mode": {
    "name": "ipython",
    "version": 3
   },
   "file_extension": ".py",
   "mimetype": "text/x-python",
   "name": "python",
   "nbconvert_exporter": "python",
   "pygments_lexer": "ipython3",
   "version": "3.7.0"
  }
 },
 "nbformat": 4,
 "nbformat_minor": 2
}
